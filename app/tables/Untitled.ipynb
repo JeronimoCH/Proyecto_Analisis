{
 "cells": [
  {
   "cell_type": "code",
   "execution_count": 22,
   "id": "93d8af96-c739-47b4-8daa-5fd30d38aa51",
   "metadata": {},
   "outputs": [],
   "source": [
    "import pandas as pd\n",
    "df = pd.read_csv('tabla_informe2.csv')"
   ]
  },
  {
   "cell_type": "code",
   "execution_count": 23,
   "id": "4e82e93e-39af-4871-badb-cb319845708c",
   "metadata": {},
   "outputs": [],
   "source": [
    "min_error = df.sort_values(by='Error').iloc[0]['Error']"
   ]
  },
  {
   "cell_type": "code",
   "execution_count": 24,
   "id": "4e6b2d7a-7df8-4111-99fb-55c9adb73fe4",
   "metadata": {},
   "outputs": [
    {
     "data": {
      "text/html": [
       "<div>\n",
       "<style scoped>\n",
       "    .dataframe tbody tr th:only-of-type {\n",
       "        vertical-align: middle;\n",
       "    }\n",
       "\n",
       "    .dataframe tbody tr th {\n",
       "        vertical-align: top;\n",
       "    }\n",
       "\n",
       "    .dataframe thead th {\n",
       "        text-align: right;\n",
       "    }\n",
       "</style>\n",
       "<table border=\"1\" class=\"dataframe\">\n",
       "  <thead>\n",
       "    <tr style=\"text-align: right;\">\n",
       "      <th></th>\n",
       "      <th>Method</th>\n",
       "      <th>Iteration</th>\n",
       "      <th>Error</th>\n",
       "      <th>RE</th>\n",
       "      <th>Result</th>\n",
       "      <th>x1</th>\n",
       "      <th>x2</th>\n",
       "    </tr>\n",
       "  </thead>\n",
       "  <tbody>\n",
       "    <tr>\n",
       "      <th>4</th>\n",
       "      <td>SOR-w3</td>\n",
       "      <td>15</td>\n",
       "      <td>0.000299</td>\n",
       "      <td>0.48</td>\n",
       "      <td>Triunfa</td>\n",
       "      <td>4.000276</td>\n",
       "      <td>2.999779</td>\n",
       "    </tr>\n",
       "  </tbody>\n",
       "</table>\n",
       "</div>"
      ],
      "text/plain": [
       "   Method  Iteration     Error    RE   Result        x1        x2\n",
       "4  SOR-w3         15  0.000299  0.48  Triunfa  4.000276  2.999779"
      ]
     },
     "execution_count": 24,
     "metadata": {},
     "output_type": "execute_result"
    }
   ],
   "source": [
    "df[df['Error'] == min_error]"
   ]
  },
  {
   "cell_type": "code",
   "execution_count": 29,
   "id": "faaa354d-5b4e-40a2-a106-8afdc51e91a6",
   "metadata": {},
   "outputs": [],
   "source": [
    "min_error = df.sort_values(by='Error').iloc[0]['Error']\n",
    "min_iter  = df.sort_values(by='Iteration').iloc[0]['Iteration']\n",
    "\n",
    "data_iter = df[df['Iteration']==min_iter].drop(['RE', 'Result'], axis=1).astype(str).to_dict(orient='records')"
   ]
  },
  {
   "cell_type": "code",
   "execution_count": 30,
   "id": "c197c351-d3a2-40c6-bb01-c63d478e3585",
   "metadata": {},
   "outputs": [
    {
     "data": {
      "text/plain": [
       "[{'Method': 'SOR-w3',\n",
       "  'Iteration': '15',\n",
       "  'Error': '0.0002986948921162',\n",
       "  'x1': '4.00027571913359',\n",
       "  'x2': '2.99977942461596'}]"
      ]
     },
     "execution_count": 30,
     "metadata": {},
     "output_type": "execute_result"
    }
   ],
   "source": [
    "data_iter"
   ]
  }
 ],
 "metadata": {
  "kernelspec": {
   "display_name": "Python 3 (ipykernel)",
   "language": "python",
   "name": "python3"
  },
  "language_info": {
   "codemirror_mode": {
    "name": "ipython",
    "version": 3
   },
   "file_extension": ".py",
   "mimetype": "text/x-python",
   "name": "python",
   "nbconvert_exporter": "python",
   "pygments_lexer": "ipython3",
   "version": "3.10.14"
  }
 },
 "nbformat": 4,
 "nbformat_minor": 5
}
